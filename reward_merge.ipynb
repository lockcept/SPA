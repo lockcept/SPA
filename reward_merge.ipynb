{
 "cells": [
  {
   "cell_type": "code",
   "execution_count": 1,
   "metadata": {},
   "outputs": [],
   "source": [
    "import os\n",
    "import sys\n",
    "\n",
    "\n",
    "sys.path.append(os.path.abspath(os.path.join(os.path.dirname(\"__file__\"), \"src\")))"
   ]
  },
  {
   "cell_type": "code",
   "execution_count": 2,
   "metadata": {},
   "outputs": [],
   "source": [
    "import torch\n",
    "\n",
    "\n",
    "env_name = \"button-press-topdown-v2\"\n",
    "exp_name = \"CUDA-test\"\n",
    "pair_algo = \"ternary-500\"\n",
    "\n",
    "device = torch.device(\"cuda\" if torch.cuda.is_available() else \"cpu\")\n",
    "\n",
    "TRAJECTORY_LENGTH = 25\n"
   ]
  },
  {
   "cell_type": "code",
   "execution_count": null,
   "metadata": {},
   "outputs": [
    {
     "name": "stdout",
     "output_type": "stream",
     "text": [
      "Loaded pair/button-press-topdown-v2/CUDA-test/train/ternary-500.npz dataset\n",
      "Processed data with 500 samples\n",
      "Loaded pair/button-press-topdown-v2/CUDA-test/val/ternary-500.npz dataset\n",
      "Processed data with 500 samples\n",
      "obs_dim: 39 act_dim: 4\n",
      "[Train started] reward_model_path: model/button-press-topdown-v2/CUDA-test/reward/ternary-500/PT-linear_00.pth\n"
     ]
    },
    {
     "name": "stderr",
     "output_type": "stream",
     "text": [
      "Training PT reward:   0%|          | 0/200 [00:00<?, ?it/s]"
     ]
    }
   ],
   "source": [
    "from policy_learning.change_reward_pt import change_reward_and_save_pt\n",
    "from reward_learning.train_model import train_reward_model\n",
    "\n",
    "is_linear = True\n",
    "if is_linear:\n",
    "    reward_model_algo=\"PT-linear\"\n",
    "else:\n",
    "    reward_model_algo=\"PT-exp\"\n",
    "\n",
    "train_reward_model(\n",
    "    env_name=env_name,\n",
    "    exp_name=exp_name,\n",
    "    pair_algo=pair_algo,\n",
    "    reward_model_algo=reward_model_algo,\n",
    "    reward_model_tag=\"00\",\n",
    "    num_epoch=200,\n",
    ")\n",
    "\n",
    "change_reward_and_save_pt(\n",
    "    env_name=env_name,\n",
    "    exp_name=exp_name,\n",
    "    pair_algo=pair_algo,\n",
    "    is_linear=is_linear,\n",
    ")"
   ]
  },
  {
   "cell_type": "code",
   "execution_count": null,
   "metadata": {},
   "outputs": [],
   "source": []
  }
 ],
 "metadata": {
  "kernelspec": {
   "display_name": "lockcept",
   "language": "python",
   "name": "python3"
  },
  "language_info": {
   "codemirror_mode": {
    "name": "ipython",
    "version": 3
   },
   "file_extension": ".py",
   "mimetype": "text/x-python",
   "name": "python",
   "nbconvert_exporter": "python",
   "pygments_lexer": "ipython3",
   "version": "3.10.15"
  }
 },
 "nbformat": 4,
 "nbformat_minor": 2
}
