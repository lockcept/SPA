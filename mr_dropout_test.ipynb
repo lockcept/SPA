{
 "cells": [
  {
   "cell_type": "code",
   "execution_count": 6,
   "metadata": {},
   "outputs": [],
   "source": [
    "import os\n",
    "import sys\n",
    "\n",
    "\n",
    "sys.path.append(os.path.abspath(os.path.join(os.path.dirname(\"__file__\"), \"src\")))"
   ]
  },
  {
   "cell_type": "code",
   "execution_count": 7,
   "metadata": {},
   "outputs": [],
   "source": [
    "import torch\n",
    "import numpy as np\n",
    "\n",
    "\n",
    "env_name = \"button-press-topdown-v2\"\n",
    "# env_name = \"box-close-v2\"\n",
    "exp_name = \"AESPA-20-test\"\n",
    "pair_algo = \"ternary-500\"\n",
    "reward_model_algo = \"MR-dropout\"\n",
    "\n",
    "os.environ[\"CUDA_VISIBLE_DEVICES\"] = \"4\" \n",
    "device = torch.device(\"cuda\" if torch.cuda.is_available() else \"cpu\")\n",
    "\n",
    "TRAJECTORY_LENGTH = 25"
   ]
  },
  {
   "cell_type": "code",
   "execution_count": 5,
   "metadata": {},
   "outputs": [
    {
     "name": "stdout",
     "output_type": "stream",
     "text": [
      "Loaded pair/button-press-topdown-v2/AESPA-20-test/train/ternary-500.npz dataset\n"
     ]
    },
    {
     "ename": "FileNotFoundError",
     "evalue": "Pair file not found at pair/button-press-topdown-v2/AESPA-20-test/train/ternary-500.npz",
     "output_type": "error",
     "traceback": [
      "\u001b[0;31m---------------------------------------------------------------------------\u001b[0m",
      "\u001b[0;31mFileNotFoundError\u001b[0m                         Traceback (most recent call last)",
      "Cell \u001b[0;32mIn[5], line 4\u001b[0m\n\u001b[1;32m      1\u001b[0m \u001b[38;5;28;01mfrom\u001b[39;00m\u001b[38;5;250m \u001b[39m\u001b[38;5;21;01mdata_generation\u001b[39;00m\u001b[38;5;21;01m.\u001b[39;00m\u001b[38;5;21;01mpicker\u001b[39;00m\u001b[38;5;21;01m.\u001b[39;00m\u001b[38;5;21;01mmr_dropout\u001b[39;00m\u001b[38;5;250m \u001b[39m\u001b[38;5;28;01mimport\u001b[39;00m mr_dropout_test\n\u001b[0;32m----> 4\u001b[0m data \u001b[38;5;241m=\u001b[39m \u001b[43mmr_dropout_test\u001b[49m\u001b[43m(\u001b[49m\n\u001b[1;32m      5\u001b[0m \u001b[43m    \u001b[49m\u001b[43menv_name\u001b[49m\u001b[38;5;241;43m=\u001b[39;49m\u001b[43menv_name\u001b[49m\u001b[43m,\u001b[49m\n\u001b[1;32m      6\u001b[0m \u001b[43m    \u001b[49m\u001b[43mexp_name\u001b[49m\u001b[38;5;241;43m=\u001b[39;49m\u001b[43mexp_name\u001b[49m\u001b[43m,\u001b[49m\n\u001b[1;32m      7\u001b[0m \u001b[43m    \u001b[49m\u001b[43mpair_algo\u001b[49m\u001b[38;5;241;43m=\u001b[39;49m\u001b[43mpair_algo\u001b[49m\u001b[43m,\u001b[49m\n\u001b[1;32m      8\u001b[0m \u001b[43m    \u001b[49m\u001b[43mdevice\u001b[49m\u001b[38;5;241;43m=\u001b[39;49m\u001b[43mdevice\u001b[49m\u001b[43m,\u001b[49m\n\u001b[1;32m      9\u001b[0m \u001b[43m)\u001b[49m\n",
      "File \u001b[0;32m~/osilab/SPA/src/data_generation/picker/mr_dropout.py:65\u001b[0m, in \u001b[0;36mmr_dropout_test\u001b[0;34m(env_name, exp_name, pair_algo, device)\u001b[0m\n\u001b[1;32m     62\u001b[0m reward_model_algo \u001b[38;5;241m=\u001b[39m \u001b[38;5;124m\"\u001b[39m\u001b[38;5;124mMR-dropout\u001b[39m\u001b[38;5;124m\"\u001b[39m\n\u001b[1;32m     64\u001b[0m \u001b[38;5;66;03m# 1. 학습\u001b[39;00m\n\u001b[0;32m---> 65\u001b[0m \u001b[43mtrain_reward_model\u001b[49m\u001b[43m(\u001b[49m\n\u001b[1;32m     66\u001b[0m \u001b[43m    \u001b[49m\u001b[43menv_name\u001b[49m\u001b[38;5;241;43m=\u001b[39;49m\u001b[43menv_name\u001b[49m\u001b[43m,\u001b[49m\n\u001b[1;32m     67\u001b[0m \u001b[43m    \u001b[49m\u001b[43mexp_name\u001b[49m\u001b[38;5;241;43m=\u001b[39;49m\u001b[43mexp_name\u001b[49m\u001b[43m,\u001b[49m\n\u001b[1;32m     68\u001b[0m \u001b[43m    \u001b[49m\u001b[43mpair_algo\u001b[49m\u001b[38;5;241;43m=\u001b[39;49m\u001b[43mpair_algo\u001b[49m\u001b[43m,\u001b[49m\n\u001b[1;32m     69\u001b[0m \u001b[43m    \u001b[49m\u001b[43mreward_model_algo\u001b[49m\u001b[38;5;241;43m=\u001b[39;49m\u001b[43mreward_model_algo\u001b[49m\u001b[43m,\u001b[49m\n\u001b[1;32m     70\u001b[0m \u001b[43m    \u001b[49m\u001b[43mreward_model_tag\u001b[49m\u001b[38;5;241;43m=\u001b[39;49m\u001b[38;5;124;43m\"\u001b[39;49m\u001b[38;5;124;43m00\u001b[39;49m\u001b[38;5;124;43m\"\u001b[39;49m\u001b[43m,\u001b[49m\n\u001b[1;32m     71\u001b[0m \u001b[43m    \u001b[49m\u001b[43mnum_epoch\u001b[49m\u001b[38;5;241;43m=\u001b[39;49m\u001b[38;5;241;43m100\u001b[39;49m\u001b[43m,\u001b[49m\n\u001b[1;32m     72\u001b[0m \u001b[43m\u001b[49m\u001b[43m)\u001b[49m\n\u001b[1;32m     74\u001b[0m \u001b[38;5;66;03m# 2. 모델 로드\u001b[39;00m\n\u001b[1;32m     75\u001b[0m dataset \u001b[38;5;241m=\u001b[39m load_dataset(env_name)\n",
      "File \u001b[0;32m~/osilab/SPA/src/reward_learning/train_model.py:19\u001b[0m, in \u001b[0;36mtrain_reward_model\u001b[0;34m(env_name, exp_name, pair_algo, reward_model_algo, reward_model_tag, num_epoch, train_from_existing, no_val_data)\u001b[0m\n\u001b[1;32m      6\u001b[0m \u001b[38;5;28;01mdef\u001b[39;00m\u001b[38;5;250m \u001b[39m\u001b[38;5;21mtrain_reward_model\u001b[39m(\n\u001b[1;32m      7\u001b[0m     env_name,\n\u001b[1;32m      8\u001b[0m     exp_name,\n\u001b[0;32m   (...)\u001b[0m\n\u001b[1;32m     14\u001b[0m     no_val_data\u001b[38;5;241m=\u001b[39m\u001b[38;5;28;01mTrue\u001b[39;00m,\n\u001b[1;32m     15\u001b[0m ):\n\u001b[1;32m     16\u001b[0m \u001b[38;5;250m    \u001b[39m\u001b[38;5;124;03m\"\"\"\u001b[39;00m\n\u001b[1;32m     17\u001b[0m \u001b[38;5;124;03m    train reward model\u001b[39;00m\n\u001b[1;32m     18\u001b[0m \u001b[38;5;124;03m    \"\"\"\u001b[39;00m\n\u001b[0;32m---> 19\u001b[0m     train_data_loader \u001b[38;5;241m=\u001b[39m \u001b[43mget_dataloader\u001b[49m\u001b[43m(\u001b[49m\n\u001b[1;32m     20\u001b[0m \u001b[43m        \u001b[49m\u001b[43menv_name\u001b[49m\u001b[38;5;241;43m=\u001b[39;49m\u001b[43menv_name\u001b[49m\u001b[43m,\u001b[49m\n\u001b[1;32m     21\u001b[0m \u001b[43m        \u001b[49m\u001b[43mexp_name\u001b[49m\u001b[38;5;241;43m=\u001b[39;49m\u001b[43mexp_name\u001b[49m\u001b[43m,\u001b[49m\n\u001b[1;32m     22\u001b[0m \u001b[43m        \u001b[49m\u001b[43mpair_type\u001b[49m\u001b[38;5;241;43m=\u001b[39;49m\u001b[38;5;124;43m\"\u001b[39;49m\u001b[38;5;124;43mtrain\u001b[39;49m\u001b[38;5;124;43m\"\u001b[39;49m\u001b[43m,\u001b[49m\n\u001b[1;32m     23\u001b[0m \u001b[43m        \u001b[49m\u001b[43mpair_algo\u001b[49m\u001b[38;5;241;43m=\u001b[39;49m\u001b[43mpair_algo\u001b[49m\u001b[43m,\u001b[49m\n\u001b[1;32m     24\u001b[0m \u001b[43m    \u001b[49m\u001b[43m)\u001b[49m\n\u001b[1;32m     26\u001b[0m     obs_dim, act_dim \u001b[38;5;241m=\u001b[39m train_data_loader\u001b[38;5;241m.\u001b[39mdataset\u001b[38;5;241m.\u001b[39mget_dimensions()\n\u001b[1;32m     28\u001b[0m     \u001b[38;5;28;01mtry\u001b[39;00m:\n",
      "File \u001b[0;32m~/osilab/SPA/src/data_loading/preference_dataloader.py:130\u001b[0m, in \u001b[0;36mget_dataloader\u001b[0;34m(env_name, exp_name, pair_type, pair_algo, batch_size, shuffle, drop_last)\u001b[0m\n\u001b[1;32m    125\u001b[0m pair_path \u001b[38;5;241m=\u001b[39m get_pair_path(\n\u001b[1;32m    126\u001b[0m     env_name\u001b[38;5;241m=\u001b[39menv_name, exp_name\u001b[38;5;241m=\u001b[39mexp_name, pair_type\u001b[38;5;241m=\u001b[39mpair_type, pair_algo\u001b[38;5;241m=\u001b[39mpair_algo\n\u001b[1;32m    127\u001b[0m )\n\u001b[1;32m    128\u001b[0m \u001b[38;5;28mprint\u001b[39m(\u001b[38;5;124mf\u001b[39m\u001b[38;5;124m\"\u001b[39m\u001b[38;5;124mLoaded \u001b[39m\u001b[38;5;132;01m{\u001b[39;00mpair_path\u001b[38;5;132;01m}\u001b[39;00m\u001b[38;5;124m dataset\u001b[39m\u001b[38;5;124m\"\u001b[39m)\n\u001b[0;32m--> 130\u001b[0m processed_data \u001b[38;5;241m=\u001b[39m \u001b[43mget_processed_data\u001b[49m\u001b[43m(\u001b[49m\u001b[43menv_name\u001b[49m\u001b[43m,\u001b[49m\u001b[43m \u001b[49m\u001b[43mexp_name\u001b[49m\u001b[43m,\u001b[49m\u001b[43m \u001b[49m\u001b[43mpair_type\u001b[49m\u001b[43m,\u001b[49m\u001b[43m \u001b[49m\u001b[43mpair_algo\u001b[49m\u001b[43m)\u001b[49m\n\u001b[1;32m    132\u001b[0m dataloader \u001b[38;5;241m=\u001b[39m get_dataloader_from_processed_data(\n\u001b[1;32m    133\u001b[0m     processed_data, batch_size\u001b[38;5;241m=\u001b[39mbatch_size, shuffle\u001b[38;5;241m=\u001b[39mshuffle, drop_last\u001b[38;5;241m=\u001b[39mdrop_last\n\u001b[1;32m    134\u001b[0m )\n\u001b[1;32m    136\u001b[0m \u001b[38;5;28;01mreturn\u001b[39;00m dataloader\n",
      "File \u001b[0;32m~/osilab/SPA/src/data_loading/load_data.py:409\u001b[0m, in \u001b[0;36mget_processed_data\u001b[0;34m(env_name, exp_name, pair_type, pair_algo)\u001b[0m\n\u001b[1;32m    403\u001b[0m \u001b[38;5;250m\u001b[39m\u001b[38;5;124;03m\"\"\"\u001b[39;00m\n\u001b[1;32m    404\u001b[0m \u001b[38;5;124;03mreturn structured array of (s0, s1, mu) pairs\u001b[39;00m\n\u001b[1;32m    405\u001b[0m \u001b[38;5;124;03ms0, s1 is a structured array of (observations, actions)\u001b[39;00m\n\u001b[1;32m    406\u001b[0m \u001b[38;5;124;03mmu is a float\u001b[39;00m\n\u001b[1;32m    407\u001b[0m \u001b[38;5;124;03m\"\"\"\u001b[39;00m\n\u001b[1;32m    408\u001b[0m dataset \u001b[38;5;241m=\u001b[39m load_dataset(env_name)\n\u001b[0;32m--> 409\u001b[0m pair \u001b[38;5;241m=\u001b[39m \u001b[43mload_pair\u001b[49m\u001b[43m(\u001b[49m\u001b[43menv_name\u001b[49m\u001b[43m,\u001b[49m\u001b[43m \u001b[49m\u001b[43mexp_name\u001b[49m\u001b[43m,\u001b[49m\u001b[43m \u001b[49m\u001b[43mpair_type\u001b[49m\u001b[43m,\u001b[49m\u001b[43m \u001b[49m\u001b[43mpair_algo\u001b[49m\u001b[43m)\u001b[49m\n\u001b[1;32m    411\u001b[0m \u001b[38;5;28;01mreturn\u001b[39;00m process_pairs(dataset, pair)\n",
      "File \u001b[0;32m~/osilab/SPA/src/data_loading/load_data.py:350\u001b[0m, in \u001b[0;36mload_pair\u001b[0;34m(env_name, exp_name, pair_type, pair_algo)\u001b[0m\n\u001b[1;32m    345\u001b[0m path \u001b[38;5;241m=\u001b[39m get_pair_path(\n\u001b[1;32m    346\u001b[0m     env_name\u001b[38;5;241m=\u001b[39menv_name, exp_name\u001b[38;5;241m=\u001b[39mexp_name, pair_type\u001b[38;5;241m=\u001b[39mpair_type, pair_algo\u001b[38;5;241m=\u001b[39mpair_algo\n\u001b[1;32m    347\u001b[0m )\n\u001b[1;32m    349\u001b[0m \u001b[38;5;28;01mif\u001b[39;00m \u001b[38;5;129;01mnot\u001b[39;00m os\u001b[38;5;241m.\u001b[39mpath\u001b[38;5;241m.\u001b[39mexists(path):\n\u001b[0;32m--> 350\u001b[0m     \u001b[38;5;28;01mraise\u001b[39;00m \u001b[38;5;167;01mFileNotFoundError\u001b[39;00m(\u001b[38;5;124mf\u001b[39m\u001b[38;5;124m\"\u001b[39m\u001b[38;5;124mPair file not found at \u001b[39m\u001b[38;5;132;01m{\u001b[39;00mpath\u001b[38;5;132;01m}\u001b[39;00m\u001b[38;5;124m\"\u001b[39m)\n\u001b[1;32m    352\u001b[0m pair \u001b[38;5;241m=\u001b[39m np\u001b[38;5;241m.\u001b[39mload(path, allow_pickle\u001b[38;5;241m=\u001b[39m\u001b[38;5;28;01mTrue\u001b[39;00m)\n\u001b[1;32m    354\u001b[0m \u001b[38;5;28;01mreturn\u001b[39;00m pair[\u001b[38;5;124m\"\u001b[39m\u001b[38;5;124mdata\u001b[39m\u001b[38;5;124m\"\u001b[39m]\n",
      "\u001b[0;31mFileNotFoundError\u001b[0m: Pair file not found at pair/button-press-topdown-v2/AESPA-20-test/train/ternary-500.npz"
     ]
    }
   ],
   "source": [
    "from data_generation.picker.mr_dropout import mr_dropout_test\n",
    "\n",
    "\n",
    "data = mr_dropout_test(\n",
    "    env_name=env_name,\n",
    "    exp_name=exp_name,\n",
    "    pair_algo=pair_algo,\n",
    "    device=device,\n",
    ")"
   ]
  },
  {
   "cell_type": "code",
   "execution_count": null,
   "metadata": {},
   "outputs": [],
   "source": [
    "correct = []\n",
    "incorrect = []\n",
    "\n",
    "for datum in data:\n",
    "    (s0, e0), (s1, e1), predicted_mu, mu, predicted_std_0, predicted_std_1 = datum\n",
    "\n",
    "    def categorize_mu(mu_value):\n",
    "        if mu_value < 1 / 3:\n",
    "            return 0.0\n",
    "        elif mu_value > 2 / 3:\n",
    "            return 1.0\n",
    "        else:\n",
    "            return 0.5\n",
    "        \n",
    "    if categorize_mu(predicted_mu) == categorize_mu(mu):\n",
    "        correct.append(predicted_std_0)\n",
    "        correct.append(predicted_std_1)\n",
    "    else:\n",
    "        incorrect.append(predicted_std_0)\n",
    "        incorrect.append(predicted_std_1)\n",
    "    \n",
    "print (\"Correct predictions:\", len(correct), np.mean(correct))\n",
    "print (\"Incorrect predictions:\", len(incorrect), np.mean(incorrect))"
   ]
  }
 ],
 "metadata": {
  "kernelspec": {
   "display_name": "cutter",
   "language": "python",
   "name": "python3"
  },
  "language_info": {
   "codemirror_mode": {
    "name": "ipython",
    "version": 3
   },
   "file_extension": ".py",
   "mimetype": "text/x-python",
   "name": "python",
   "nbconvert_exporter": "python",
   "pygments_lexer": "ipython3",
   "version": "3.10.15"
  }
 },
 "nbformat": 4,
 "nbformat_minor": 2
}
