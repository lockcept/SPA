{
 "cells": [
  {
   "cell_type": "code",
   "execution_count": null,
   "metadata": {},
   "outputs": [
    {
     "name": "stdout",
     "output_type": "stream",
     "text": [
      "trajectory counts 4800\n",
      "ENV box-close-v2\n",
      "average reward 1.0545156\n",
      "average success 0.039954583333333335\n",
      "success traj ratio 0.08041666666666666\n"
     ]
    }
   ],
   "source": [
    "import os\n",
    "import sys\n",
    "import numpy as np\n",
    "import torch\n",
    "import torch.nn as nn\n",
    "import torch.optim as optim\n",
    "import matplotlib.pyplot as plt\n",
    "from torch.utils.data import DataLoader, TensorDataset\n",
    "from tqdm import tqdm\n",
    "\n",
    "sys.path.append(os.path.abspath(os.path.join(os.path.dirname(\"__file__\"), \"src\")))\n",
    "\n",
    "\n",
    "from data_loading.extract_indices import extract_trajectory_indices\n",
    "from data_loading.load_data import load_dataset\n",
    "\n",
    "\n",
    "# GPU 설정\n",
    "device = torch.device(\"cuda\" if torch.cuda.is_available() else \"cpu\")\n",
    "\n",
    "# 임의의 하이퍼파라미터 설정\n",
    "latent_dim = 64  # 인코더에서 나오는 잠재 공간 차원\n",
    "batch_size = 32\n",
    "num_epochs = 100  # 학습 에폭 수\n",
    "env_name = \"box-close-v2\"\n",
    "# env_name = \"sweep-v2\"\n",
    "# env_name = \"button-press-topdown-v2\"\n",
    "# env_name = \"dial-turn-v2\"\n",
    "exp_name_base = \"AESPA-15\"\n",
    "pair_algo = \"ternary-200\"\n",
    "TRAJECTORY_LENGTH=25\n",
    "\n",
    "\n",
    "dataset = load_dataset(env_name=env_name)\n",
    "indices = extract_trajectory_indices(dataset)\n",
    "cum_sum = np.cumsum(dataset[\"rewards\"], dtype=np.float64)\n",
    "average_reward = np.mean(dataset[\"rewards\"])\n",
    "average_success = np.mean(dataset[\"success\"])\n",
    "\n",
    "success_traj = 0\n",
    "\n",
    "for i, e in indices:\n",
    "    success = dataset[\"success\"][i:e].sum()\n",
    "    if success > 0:\n",
    "        success_traj += 1\n",
    "\n",
    "\n",
    "\n",
    "print (\"ENV\", env_name)\n",
    "print(\"average reward\", average_reward)\n",
    "print(\"average success\", average_success)\n",
    "print(\"success traj ratio\", success_traj / len(indices))\n"
   ]
  },
  {
   "cell_type": "code",
   "execution_count": 17,
   "metadata": {},
   "outputs": [
    {
     "name": "stdout",
     "output_type": "stream",
     "text": [
      "0 0.0\n",
      "5 0.0\n",
      "10 0.0\n",
      "15 0.011549358488991851\n",
      "20 0.14963063895702364\n",
      "25 0.21385451778769493\n",
      "30 0.2581173330545425\n",
      "35 0.3019820034503936\n",
      "40 0.348339456319809\n",
      "45 0.3897775799036026\n",
      "50 0.42866045236587524\n",
      "55 0.4776712313294412\n",
      "60 0.5571324110031126\n",
      "65 0.6776732444763184\n",
      "70 0.827820605039596\n",
      "75 1.0295985639095306\n",
      "80 1.3056272268295288\n",
      "85 1.5001691043376921\n",
      "90 2.523897957801819\n",
      "95 4.373603534698477\n",
      "100 9.992400169372559\n",
      "1.8709017\n"
     ]
    }
   ],
   "source": [
    "for i in range(0, 101, 5):\n",
    "    print (i, np.percentile(dataset[\"rewards\"], i))\n",
    "\n",
    "print (np.std(dataset[\"rewards\"]))"
   ]
  },
  {
   "cell_type": "code",
   "execution_count": 2,
   "metadata": {},
   "outputs": [],
   "source": [
    "from reward_learning.reward_model_base import RewardModelBase\n",
    "\n",
    "\n",
    "def fill_feedback_from_model(dataset, pairs, model: RewardModelBase):\n",
    "    \"\"\"\n",
    "    Fill feedback in dataset using multiple reward models and average their mu values.\n",
    "    Also return the standard deviation of mu values.\n",
    "\n",
    "    Args:\n",
    "        dataset: dict\n",
    "        pairs: list of tuples ((int, int), (int, int))\n",
    "        models: list of torch.nn.Module\n",
    "        linear_loss: bool, optional\n",
    "            If True, use linear loss for mu calculation. Default is False.\n",
    "\n",
    "    Returns:\n",
    "        tuple:\n",
    "            - np array of ((int, int), (int, int), float): mu values.\n",
    "            - np array of float: standard deviation of mu values.\n",
    "    \"\"\"\n",
    "\n",
    "    num_samples = len(dataset[\"observations\"])\n",
    "    batch_size = num_samples // 20\n",
    "    model_outputs = []\n",
    "\n",
    "    for start_idx in range(0, num_samples, batch_size):\n",
    "        end_idx = min(start_idx + batch_size, num_samples)\n",
    "\n",
    "        obs_batch = torch.tensor(\n",
    "            dataset[\"observations\"][start_idx:end_idx], dtype=torch.float32\n",
    "        ).to(device)\n",
    "        act_batch = torch.tensor(\n",
    "            dataset[\"actions\"][start_idx:end_idx], dtype=torch.float32\n",
    "        ).to(device)\n",
    "\n",
    "        rewards = model(\n",
    "            obs_batch, act_batch\n",
    "        )\n",
    "\n",
    "        model_outputs.append(rewards.detach().cpu().numpy())\n",
    "\n",
    "    predicted_rewards = np.concatenate(model_outputs, axis=0).squeeze()\n",
    "    cumulative_rewards = np.cumsum(predicted_rewards, dtype=np.float64)\n",
    "\n",
    "    feedbacks = []\n",
    "\n",
    "    for i0, i1 in pairs:\n",
    "        s0, e0 = i0\n",
    "        s1, e1 = i1\n",
    "\n",
    "        sum_of_rewards_0 = cumulative_rewards[e0 - 1] - (\n",
    "            cumulative_rewards[s0 - 1] if s0 > 0 else 0\n",
    "        )\n",
    "        sum_of_rewards_1 = cumulative_rewards[e1 - 1] - (\n",
    "            cumulative_rewards[s1 - 1] if s1 > 0 else 0\n",
    "        )\n",
    "\n",
    "        mu = sum_of_rewards_1 / (sum_of_rewards_0 + sum_of_rewards_1)\n",
    "\n",
    "        feedbacks.append(((s0, e0), (s1, e1), mu))\n",
    "\n",
    "    return feedbacks"
   ]
  },
  {
   "cell_type": "code",
   "execution_count": 3,
   "metadata": {},
   "outputs": [
    {
     "name": "stdout",
     "output_type": "stream",
     "text": [
      "Loaded pair/box-close-v2/AESPA-15-00/test/ternary-100000.npz dataset\n",
      "Processed data with 100000 samples\n"
     ]
    },
    {
     "name": "stderr",
     "output_type": "stream",
     "text": [
      "/tmp/ipykernel_783493/471069864.py:43: FutureWarning: You are using `torch.load` with `weights_only=False` (the current default value), which uses the default pickle module implicitly. It is possible to construct malicious pickle data which will execute arbitrary code during unpickling (See https://github.com/pytorch/pytorch/blob/main/SECURITY.md#untrusted-models for more details). In a future release, the default value for `weights_only` will be flipped to `True`. This limits the functions that could be executed during unpickling. Arbitrary objects will no longer be allowed to be loaded via this mode unless they are explicitly allowlisted by the user via `torch.serialization.add_safe_globals`. We recommend you start setting `weights_only=True` for any use case where you don't have full control of the loaded file. Please open an issue on GitHub for any issues related to this experimental feature.\n",
      "  classifier.load_state_dict(torch.load(classifier_model_path))\n",
      "Evaluating Accuracy: 100%|██████████| 3125/3125 [00:03<00:00, 871.38it/s]\n"
     ]
    },
    {
     "name": "stdout",
     "output_type": "stream",
     "text": [
      "Model loaded from model/box-close-v2/AESPA-15-00/reward/ternary-200/MR-linear_00.pth\n",
      "(array([1407866, 1407891], dtype=int32), array([1580557, 1580582], dtype=int32))\n"
     ]
    },
    {
     "name": "stderr",
     "output_type": "stream",
     "text": [
      "/tmp/ipykernel_783493/2835971667.py:58: RuntimeWarning: invalid value encountered in double_scalars\n",
      "  mu = sum_of_rewards_1 / (sum_of_rewards_0 + sum_of_rewards_1)\n"
     ]
    },
    {
     "name": "stdout",
     "output_type": "stream",
     "text": [
      "Loaded pair/box-close-v2/AESPA-15-01/test/ternary-100000.npz dataset\n",
      "Processed data with 100000 samples\n"
     ]
    },
    {
     "name": "stderr",
     "output_type": "stream",
     "text": [
      "/tmp/ipykernel_783493/471069864.py:43: FutureWarning: You are using `torch.load` with `weights_only=False` (the current default value), which uses the default pickle module implicitly. It is possible to construct malicious pickle data which will execute arbitrary code during unpickling (See https://github.com/pytorch/pytorch/blob/main/SECURITY.md#untrusted-models for more details). In a future release, the default value for `weights_only` will be flipped to `True`. This limits the functions that could be executed during unpickling. Arbitrary objects will no longer be allowed to be loaded via this mode unless they are explicitly allowlisted by the user via `torch.serialization.add_safe_globals`. We recommend you start setting `weights_only=True` for any use case where you don't have full control of the loaded file. Please open an issue on GitHub for any issues related to this experimental feature.\n",
      "  classifier.load_state_dict(torch.load(classifier_model_path))\n",
      "Evaluating Accuracy: 100%|██████████| 3125/3125 [00:03<00:00, 908.81it/s]\n"
     ]
    },
    {
     "name": "stdout",
     "output_type": "stream",
     "text": [
      "Model loaded from model/box-close-v2/AESPA-15-01/reward/ternary-200/MR-linear_00.pth\n",
      "(array([2028423, 2028448], dtype=int32), array([425075, 425100], dtype=int32))\n",
      "Loaded pair/box-close-v2/AESPA-15-02/test/ternary-100000.npz dataset\n",
      "Processed data with 100000 samples\n"
     ]
    },
    {
     "name": "stderr",
     "output_type": "stream",
     "text": [
      "Evaluating Accuracy: 100%|██████████| 3125/3125 [00:03<00:00, 866.52it/s]\n"
     ]
    },
    {
     "name": "stdout",
     "output_type": "stream",
     "text": [
      "Model loaded from model/box-close-v2/AESPA-15-02/reward/ternary-200/MR-linear_00.pth\n",
      "(array([582926, 582951], dtype=int32), array([1115733, 1115758], dtype=int32))\n",
      "Loaded pair/box-close-v2/AESPA-15-03/test/ternary-100000.npz dataset\n",
      "Processed data with 100000 samples\n"
     ]
    },
    {
     "name": "stderr",
     "output_type": "stream",
     "text": [
      "Evaluating Accuracy: 100%|██████████| 3125/3125 [00:03<00:00, 874.58it/s]\n"
     ]
    },
    {
     "name": "stdout",
     "output_type": "stream",
     "text": [
      "Model loaded from model/box-close-v2/AESPA-15-03/reward/ternary-200/MR-linear_00.pth\n",
      "(array([323802, 323827], dtype=int32), array([673256, 673281], dtype=int32))\n",
      "Loaded pair/box-close-v2/AESPA-15-04/test/ternary-100000.npz dataset\n",
      "Processed data with 100000 samples\n"
     ]
    },
    {
     "name": "stderr",
     "output_type": "stream",
     "text": [
      "Evaluating Accuracy: 100%|██████████| 3125/3125 [00:03<00:00, 903.60it/s]\n"
     ]
    },
    {
     "name": "stdout",
     "output_type": "stream",
     "text": [
      "Model loaded from model/box-close-v2/AESPA-15-04/reward/ternary-200/MR-linear_00.pth\n",
      "(array([72310, 72335], dtype=int32), array([2055975, 2056000], dtype=int32))\n",
      "Loaded pair/box-close-v2/AESPA-15-05/test/ternary-100000.npz dataset\n",
      "Processed data with 100000 samples\n"
     ]
    },
    {
     "name": "stderr",
     "output_type": "stream",
     "text": [
      "Evaluating Accuracy: 100%|██████████| 3125/3125 [00:04<00:00, 711.42it/s]\n"
     ]
    },
    {
     "name": "stdout",
     "output_type": "stream",
     "text": [
      "Model loaded from model/box-close-v2/AESPA-15-05/reward/ternary-200/MR-linear_00.pth\n",
      "(array([1523872, 1523897], dtype=int32), array([1687654, 1687679], dtype=int32))\n",
      "Loaded pair/box-close-v2/AESPA-15-06/test/ternary-100000.npz dataset\n",
      "Processed data with 100000 samples\n"
     ]
    },
    {
     "name": "stderr",
     "output_type": "stream",
     "text": [
      "Evaluating Accuracy: 100%|██████████| 3125/3125 [00:03<00:00, 881.73it/s]\n"
     ]
    },
    {
     "name": "stdout",
     "output_type": "stream",
     "text": [
      "Model loaded from model/box-close-v2/AESPA-15-06/reward/ternary-200/MR-linear_00.pth\n",
      "(array([36173, 36198], dtype=int32), array([518603, 518628], dtype=int32))\n",
      "Loaded pair/box-close-v2/AESPA-15-07/test/ternary-100000.npz dataset\n",
      "Processed data with 100000 samples\n"
     ]
    },
    {
     "name": "stderr",
     "output_type": "stream",
     "text": [
      "Evaluating Accuracy: 100%|██████████| 3125/3125 [00:03<00:00, 842.75it/s]\n"
     ]
    },
    {
     "name": "stdout",
     "output_type": "stream",
     "text": [
      "Model loaded from model/box-close-v2/AESPA-15-07/reward/ternary-200/MR-linear_00.pth\n",
      "(array([997227, 997252], dtype=int32), array([742574, 742599], dtype=int32))\n",
      "Loaded pair/box-close-v2/AESPA-15-08/test/ternary-100000.npz dataset\n",
      "Processed data with 100000 samples\n"
     ]
    },
    {
     "name": "stderr",
     "output_type": "stream",
     "text": [
      "Evaluating Accuracy: 100%|██████████| 3125/3125 [00:03<00:00, 866.00it/s]\n"
     ]
    },
    {
     "name": "stdout",
     "output_type": "stream",
     "text": [
      "Model loaded from model/box-close-v2/AESPA-15-08/reward/ternary-200/MR-linear_00.pth\n",
      "(array([1194703, 1194728], dtype=int32), array([1225131, 1225156], dtype=int32))\n",
      "Loaded pair/box-close-v2/AESPA-15-09/test/ternary-100000.npz dataset\n",
      "Processed data with 100000 samples\n"
     ]
    },
    {
     "name": "stderr",
     "output_type": "stream",
     "text": [
      "Evaluating Accuracy: 100%|██████████| 3125/3125 [00:03<00:00, 839.87it/s]\n"
     ]
    },
    {
     "name": "stdout",
     "output_type": "stream",
     "text": [
      "Model loaded from model/box-close-v2/AESPA-15-09/reward/ternary-200/MR-linear_00.pth\n",
      "(array([1979272, 1979297], dtype=int32), array([1151570, 1151595], dtype=int32))\n"
     ]
    }
   ],
   "source": [
    "from data_generation.classifier.trajectory_pair_classifier import TrajectoryPairClassifier\n",
    "from data_loading.load_data import load_pair\n",
    "from data_loading.preference_dataloader import get_dataloader\n",
    "from reward_learning.get_model import get_reward_model\n",
    "from utils.path import get_reward_model_path, get_trajectory_pair_classifier_path\n",
    "\n",
    "\n",
    "classifier_data = []\n",
    "reward_model_data = []\n",
    "\n",
    "test_pair_algo = \"ternary-100000\"\n",
    "\n",
    "\n",
    "# Accuracy 계산용 함수\n",
    "def categorize_mu(mu_value):\n",
    "    if mu_value < 1 / 3:\n",
    "        return 0.0\n",
    "    elif mu_value > 2 / 3:\n",
    "        return 1.0\n",
    "    else:\n",
    "        return 0.5\n",
    "\n",
    "for i in range(0, 10):\n",
    "    exp_name = f\"{exp_name_base}-{i:02d}\"\n",
    "\n",
    "    test_loader = get_dataloader(\n",
    "            env_name=env_name,\n",
    "            exp_name=exp_name,\n",
    "            pair_type=\"test\",\n",
    "            pair_algo=test_pair_algo,\n",
    "            batch_size=batch_size,\n",
    "            shuffle=True,\n",
    "            drop_last=False,\n",
    "        )\n",
    "\n",
    "    classifier_model_path = get_trajectory_pair_classifier_path(\n",
    "        env_name=env_name,\n",
    "        exp_name=exp_name,\n",
    "        pair_algo=f\"{pair_algo}-flipped\",\n",
    "    )\n",
    "\n",
    "    classifier = TrajectoryPairClassifier(input_dim=43*25).to(device)\n",
    "    classifier.load_state_dict(torch.load(classifier_model_path))\n",
    "    classifier.eval()\n",
    "\n",
    "\n",
    "    original_mu_list = []\n",
    "    predicted_mu_list = []\n",
    "    flipped_predicted_mu_list = []\n",
    "\n",
    "    with torch.no_grad():\n",
    "        for batch in tqdm(test_loader, desc=\"Evaluating Accuracy\"):\n",
    "            s0_obs_batch, s0_act_batch, s1_obs_batch, s1_act_batch, original_mu_batch, _, _ = [\n",
    "                x.to(device) for x in batch\n",
    "            ]\n",
    "            batch_dim = s0_obs_batch.shape[0]\n",
    "\n",
    "            # Trajectory flatten\n",
    "            s0_batch = torch.cat((s0_obs_batch, s0_act_batch), dim=-1).reshape(batch_dim, -1)\n",
    "            s1_batch = torch.cat((s1_obs_batch, s1_act_batch), dim=-1).reshape(batch_dim, -1)\n",
    "\n",
    "            # Classifier prediction\n",
    "            input_batch = torch.cat((s0_batch, s1_batch), dim=-1)\n",
    "            output = classifier(input_batch)\n",
    "            predicted_mu = torch.sigmoid(output[:, 1])\n",
    "\n",
    "            flipped_input_batch = torch.cat((s1_batch, s0_batch), dim=-1)\n",
    "            flipped_output = classifier(flipped_input_batch)\n",
    "            flipped_predicted_mu = torch.sigmoid(flipped_output[:, 1])\n",
    "\n",
    "\n",
    "            # Store original mu\n",
    "            original_mu_list.append(original_mu_batch.cpu().numpy())\n",
    "            predicted_mu_list.append(predicted_mu.cpu().numpy())\n",
    "            flipped_predicted_mu_list.append(flipped_predicted_mu.cpu().numpy())\n",
    "\n",
    "    original_mu_list = np.concatenate(original_mu_list, axis=0)\n",
    "    predicted_mu_list = np.concatenate(predicted_mu_list, axis=0)\n",
    "    flipped_predicted_mu_list = np.concatenate(flipped_predicted_mu_list, axis=0)\n",
    "\n",
    "    classifier_data.append(list(zip(original_mu_list, predicted_mu_list, flipped_predicted_mu_list)))\n",
    "\n",
    "\n",
    "    # Reward Model Accuracy\n",
    "\n",
    "    reward_model_path = get_reward_model_path(\n",
    "        env_name=env_name,\n",
    "        exp_name=exp_name,\n",
    "        pair_algo=pair_algo,\n",
    "        reward_model_algo=\"MR-linear\",\n",
    "        reward_model_tag=\"00\",\n",
    "    )\n",
    "\n",
    "    obs_dim, act_dim = test_loader.dataset.get_dimensions()\n",
    "\n",
    "    model, _ = get_reward_model(\n",
    "        reward_model_algo=\"MR-linear\",\n",
    "        obs_dim=obs_dim,\n",
    "        act_dim=act_dim,\n",
    "        model_path=reward_model_path,\n",
    "        allow_existing=True,\n",
    "    )\n",
    "\n",
    "    model.to(device)\n",
    "\n",
    "    model.eval()\n",
    "\n",
    "    test_feedbacks = load_pair(\n",
    "        env_name=env_name,\n",
    "        exp_name=exp_name,\n",
    "        pair_algo=test_pair_algo,\n",
    "        pair_type=\"test\",\n",
    "    )\n",
    "\n",
    "\n",
    "    test_pairs = [\n",
    "        (t0, t1)\n",
    "        for t0, t1, _ in test_feedbacks\n",
    "    ]\n",
    "\n",
    "    print(test_pairs[0])\n",
    "    feedbacks = fill_feedback_from_model(dataset, test_pairs, model)\n",
    "    predicted_mu = [mu for _, _, mu in feedbacks]\n",
    "    predicted_mu = np.array(predicted_mu)\n",
    "\n",
    "    original_mu = [mu for _, _, mu in test_feedbacks]\n",
    "    original_mu = np.array(original_mu)\n",
    "\n",
    "    reward_model_data.append(list(zip(original_mu, predicted_mu)))\n"
   ]
  },
  {
   "cell_type": "code",
   "execution_count": 4,
   "metadata": {},
   "outputs": [],
   "source": [
    "filter_count = 10000\n",
    "\n",
    "classifier_acc = []\n",
    "filtered_classifier_acc = []\n",
    "reward_model_acc = []\n",
    "filtered_reward_model_acc = []\n",
    "\n",
    "temp_data = []\n",
    "temp_data2 = []\n",
    "\n",
    "for i in range(10):\n",
    "    original_mu_list, predicted_mu_list, flipped_predicted_mu_list = zip(*classifier_data[i])\n",
    "\n",
    "    original_mu_list = np.array(original_mu_list)\n",
    "    predicted_mu_list = np.array(predicted_mu_list)\n",
    "    flipped_predicted_mu_list = np.array(flipped_predicted_mu_list)\n",
    "\n",
    "    correct = 0\n",
    "    total = 0\n",
    "\n",
    "    for i in range(len(predicted_mu_list)):\n",
    "        pred_mu_cat = categorize_mu(predicted_mu_list[i])\n",
    "        orig_mu_cat = categorize_mu(original_mu_list[i])\n",
    "        if pred_mu_cat == orig_mu_cat:\n",
    "            correct += 1\n",
    "        total += 1\n",
    "    \n",
    "    accuracy = correct / total\n",
    "    classifier_acc.append(accuracy)\n",
    "\n",
    "    correct = 0\n",
    "    total = 0\n",
    "    \n",
    "    sorted_indices = np.argsort(np.abs(predicted_mu_list + flipped_predicted_mu_list - 1.0))\n",
    "    filtered_predicted_mu_list = predicted_mu_list[sorted_indices[:filter_count]]\n",
    "    filtered_original_mu_list = original_mu_list[sorted_indices[:filter_count]]\n",
    "\n",
    "    temp_data.append(filtered_predicted_mu_list)\n",
    "    temp_data2.append(predicted_mu_list.tolist())\n",
    "\n",
    "    for i in range(len(filtered_predicted_mu_list)):\n",
    "        pred_mu_cat = categorize_mu(filtered_predicted_mu_list[i])\n",
    "        orig_mu_cat = categorize_mu(filtered_original_mu_list[i])\n",
    "        if pred_mu_cat == orig_mu_cat:\n",
    "            correct += 1\n",
    "        total += 1\n",
    "\n",
    "    accuracy = correct / total\n",
    "    filtered_classifier_acc.append(accuracy)\n",
    "\n",
    "\n",
    "for i in range(10):\n",
    "    original_mu_list, predicted_mu_list = zip(*reward_model_data[i])\n",
    "\n",
    "    original_mu_list = np.array(original_mu_list)\n",
    "    predicted_mu_list = np.array(predicted_mu_list)\n",
    "\n",
    "    # Categorize both original and predicted\n",
    "    correct = 0\n",
    "    total = 0\n",
    "    for i in range(len(predicted_mu_list)):\n",
    "        pred_mu_cat = categorize_mu(predicted_mu_list[i])\n",
    "        orig_mu_cat = categorize_mu(original_mu_list[i])\n",
    "        if pred_mu_cat == orig_mu_cat:\n",
    "            correct += 1\n",
    "        total += 1\n",
    "    accuracy = correct / total\n",
    "    reward_model_acc.append(accuracy)\n",
    "\n",
    "\n",
    "    # sort by predicted_mu with close to 0 or 1\n",
    "    sorted_indices = np.argsort(- np.abs(predicted_mu_list - 0.5))\n",
    "    filtered_predicted_mu = predicted_mu_list[sorted_indices[:filter_count]]\n",
    "    filtered_original_mu = original_mu_list[sorted_indices[:filter_count]]\n",
    "\n",
    "    # Categorize both original and predicted\n",
    "    correct = 0\n",
    "    total = 0\n",
    "    for i in range(len(filtered_predicted_mu)):\n",
    "        pred_mu_cat = categorize_mu(filtered_predicted_mu[i])\n",
    "        orig_mu_cat = categorize_mu(filtered_original_mu[i])\n",
    "        if pred_mu_cat == orig_mu_cat:\n",
    "            correct += 1\n",
    "        total += 1\n",
    "    accuracy = correct / total\n",
    "    filtered_reward_model_acc.append(accuracy)"
   ]
  },
  {
   "cell_type": "code",
   "execution_count": 5,
   "metadata": {},
   "outputs": [
    {
     "name": "stdout",
     "output_type": "stream",
     "text": [
      "Classifier Accuracy:  0.6418 0.013594537174909646 [0.6251, 0.63569, 0.6424, 0.63289, 0.6508, 0.61952, 0.66735, 0.65633, 0.6448, 0.64315]\n",
      "Filtered Classifier Accuracy:  0.8586 0.0391214071832801 [0.7784, 0.8864, 0.821, 0.8936, 0.8257, 0.8919, 0.8934, 0.8936, 0.8696, 0.8319]\n",
      "Reward Model Accuracy:  0.7291 0.015898023147548887 [0.71231, 0.70237, 0.74134, 0.74399, 0.72726, 0.74582, 0.74511, 0.74333, 0.71716, 0.71251]\n",
      "Filtered Reward Model Accuracy:  0.8584 0.023263578830437948 [0.8132, 0.8626, 0.8909, 0.839, 0.8391, 0.8752, 0.8798, 0.8687, 0.8766, 0.8392]\n"
     ]
    }
   ],
   "source": [
    "print(\"Classifier Accuracy: \",np.round(np.mean(classifier_acc),4),np.std(classifier_acc), classifier_acc)\n",
    "print(\"Filtered Classifier Accuracy: \",np.round(np.mean(filtered_classifier_acc),4),np.std(filtered_classifier_acc), filtered_classifier_acc)\n",
    "print(\"Reward Model Accuracy: \",np.round(np.mean(reward_model_acc),4),np.std(reward_model_acc), reward_model_acc)\n",
    "print(\"Filtered Reward Model Accuracy: \",np.round(np.mean(filtered_reward_model_acc),4),np.std(filtered_reward_model_acc), filtered_reward_model_acc)"
   ]
  },
  {
   "cell_type": "code",
   "execution_count": 6,
   "metadata": {},
   "outputs": [
    {
     "data": {
      "text/plain": [
       "(array([5.0071e+04, 1.4000e+01, 7.0000e+00, 3.0000e+00, 3.0000e+00,\n",
       "        1.0000e+00, 0.0000e+00, 1.0000e+00, 3.0000e+00, 0.0000e+00,\n",
       "        0.0000e+00, 1.0000e+00, 0.0000e+00, 1.0000e+00, 0.0000e+00,\n",
       "        0.0000e+00, 1.0000e+00, 0.0000e+00, 1.0000e+00, 0.0000e+00,\n",
       "        0.0000e+00, 0.0000e+00, 0.0000e+00, 0.0000e+00, 0.0000e+00,\n",
       "        0.0000e+00, 0.0000e+00, 0.0000e+00, 0.0000e+00, 0.0000e+00,\n",
       "        0.0000e+00, 0.0000e+00, 0.0000e+00, 1.0000e+00, 1.0000e+00,\n",
       "        1.0000e+00, 1.0000e+00, 0.0000e+00, 1.0000e+00, 1.0000e+00,\n",
       "        0.0000e+00, 0.0000e+00, 0.0000e+00, 1.0000e+00, 1.0000e+00,\n",
       "        1.0000e+00, 4.0000e+00, 8.0000e+00, 2.5000e+01, 4.9847e+04]),\n",
       " array([0.  , 0.02, 0.04, 0.06, 0.08, 0.1 , 0.12, 0.14, 0.16, 0.18, 0.2 ,\n",
       "        0.22, 0.24, 0.26, 0.28, 0.3 , 0.32, 0.34, 0.36, 0.38, 0.4 , 0.42,\n",
       "        0.44, 0.46, 0.48, 0.5 , 0.52, 0.54, 0.56, 0.58, 0.6 , 0.62, 0.64,\n",
       "        0.66, 0.68, 0.7 , 0.72, 0.74, 0.76, 0.78, 0.8 , 0.82, 0.84, 0.86,\n",
       "        0.88, 0.9 , 0.92, 0.94, 0.96, 0.98, 1.  ], dtype=float32),\n",
       " <BarContainer object of 50 artists>)"
      ]
     },
     "execution_count": 6,
     "metadata": {},
     "output_type": "execute_result"
    },
    {
     "data": {
      "image/png": "[encoded data removed]",
      "text/plain": [
       "<Figure size 640x480 with 1 Axes>"
      ]
     },
     "metadata": {},
     "output_type": "display_data"
    }
   ],
   "source": [
    "plt.figure()\n",
    "temp_data = np.concatenate(temp_data, axis=0)\n",
    "plt.hist(temp_data, bins=50)"
   ]
  },
  {
   "cell_type": "code",
   "execution_count": 7,
   "metadata": {},
   "outputs": [
    {
     "data": {
      "text/plain": [
       "(array([289287.,  38291.,  23578.,  17409.,  13965.,  11812.,  10026.,\n",
       "          8977.,   8276.,   7502.,   7145.,   6708.,   6338.,   6069.,\n",
       "          5794.,   5693.,   5277.,   5316.,   5105.,   5128.,   4969.,\n",
       "          4852.,   4713.,   4917.,   4853.,   4760.,   4777.,   4788.,\n",
       "          4781.,   4841.,   5104.,   4971.,   5064.,   5267.,   5296.,\n",
       "          5670.,   5945.,   6217.,   6628.,   6842.,   7536.,   8157.,\n",
       "          8794.,   9780.,  11499.,  13477.,  16318.,  22529.,  35419.,\n",
       "        273540.]),\n",
       " array([0.  , 0.02, 0.04, 0.06, 0.08, 0.1 , 0.12, 0.14, 0.16, 0.18, 0.2 ,\n",
       "        0.22, 0.24, 0.26, 0.28, 0.3 , 0.32, 0.34, 0.36, 0.38, 0.4 , 0.42,\n",
       "        0.44, 0.46, 0.48, 0.5 , 0.52, 0.54, 0.56, 0.58, 0.6 , 0.62, 0.64,\n",
       "        0.66, 0.68, 0.7 , 0.72, 0.74, 0.76, 0.78, 0.8 , 0.82, 0.84, 0.86,\n",
       "        0.88, 0.9 , 0.92, 0.94, 0.96, 0.98, 1.  ]),\n",
       " <BarContainer object of 50 artists>)"
      ]
     },
     "execution_count": 7,
     "metadata": {},
     "output_type": "execute_result"
    },
    {
     "data": {
      "image/png": "[encoded data removed]",
      "text/plain": [
       "<Figure size 640x480 with 1 Axes>"
      ]
     },
     "metadata": {},
     "output_type": "display_data"
    }
   ],
   "source": [
    "plt.figure()\n",
    "plt.hist(np.concatenate(temp_data2, axis=0), bins=50)"
   ]
  },
  {
   "cell_type": "code",
   "execution_count": null,
   "metadata": {},
   "outputs": [],
   "source": []
  }
 ],
 "metadata": {
  "kernelspec": {
   "display_name": "lockcept",
   "language": "python",
   "name": "python3"
  },
  "language_info": {
   "codemirror_mode": {
    "name": "ipython",
    "version": 3
   },
   "file_extension": ".py",
   "mimetype": "text/x-python",
   "name": "python",
   "nbconvert_exporter": "python",
   "pygments_lexer": "ipython3",
   "version": "3.10.15"
  }
 },
 "nbformat": 4,
 "nbformat_minor": 2
}
