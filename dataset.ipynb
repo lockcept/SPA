{
 "cells": [
  {
   "cell_type": "code",
   "execution_count": 1,
   "metadata": {},
   "outputs": [],
   "source": [
    "import os\n",
    "import sys\n",
    "\n",
    "\n",
    "sys.path.append(os.path.abspath(os.path.join(os.path.dirname(\"__file__\"), \"src\")))"
   ]
  },
  {
   "cell_type": "code",
   "execution_count": 3,
   "metadata": {},
   "outputs": [
    {
     "name": "stdout",
     "output_type": "stream",
     "text": [
      "obs_dim: 39 act_dim: 4\n",
      "trajectory counts 4800\n",
      "obs_dim: 39 act_dim: 4\n",
      "trajectory counts 4800\n",
      "obs_dim: 39 act_dim: 4\n",
      "trajectory counts 4800\n",
      "obs_dim: 39 act_dim: 4\n",
      "trajectory counts 4800\n",
      "obs_dim: 39 act_dim: 4\n",
      "trajectory counts 4800\n",
      "obs_dim: 39 act_dim: 4\n",
      "trajectory counts 4800\n",
      "obs_dim: 39 act_dim: 4\n",
      "trajectory counts 4800\n",
      "obs_dim: 39 act_dim: 4\n",
      "trajectory counts 4800\n",
      "obs_dim: 39 act_dim: 4\n",
      "trajectory counts 4800\n",
      "obs_dim: 39 act_dim: 4\n",
      "trajectory counts 4800\n"
     ]
    }
   ],
   "source": [
    "from modify_dataset.artificial_dataset import make_artificial_dataset\n",
    "\n",
    "# env_name = 'button-press-topdown-v2'\n",
    "env_name = 'box-close-v2'\n",
    "\n",
    "for i in range(10):\n",
    "    exp_name = f\"AESPA-16-{i:02d}\"\n",
    "\n",
    "    make_artificial_dataset(env_name=env_name, exp_name=exp_name)"
   ]
  },
  {
   "cell_type": "code",
   "execution_count": null,
   "metadata": {},
   "outputs": [],
   "source": []
  }
 ],
 "metadata": {
  "kernelspec": {
   "display_name": "lockcept",
   "language": "python",
   "name": "python3"
  },
  "language_info": {
   "codemirror_mode": {
    "name": "ipython",
    "version": 3
   },
   "file_extension": ".py",
   "mimetype": "text/x-python",
   "name": "python",
   "nbconvert_exporter": "python",
   "pygments_lexer": "ipython3",
   "version": "3.10.15"
  }
 },
 "nbformat": 4,
 "nbformat_minor": 2
}
