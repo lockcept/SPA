{
 "cells": [
  {
   "cell_type": "code",
   "execution_count": null,
   "metadata": {},
   "outputs": [],
   "source": [
    "import os\n",
    "import sys\n",
    "import numpy as np\n",
    "import torch\n",
    "import torch.nn as nn\n",
    "import torch.optim as optim\n",
    "import matplotlib.pyplot as plt\n",
    "from torch.utils.data import DataLoader, TensorDataset\n",
    "from tqdm import tqdm\n",
    "from sklearn.metrics import confusion_matrix\n",
    "\n",
    "sys.path.append(os.path.abspath(os.path.join(os.path.dirname(\"__file__\"), \"src\")))\n",
    "\n",
    "\n",
    "# GPU 설정\n",
    "device = torch.device(\"cuda\" if torch.cuda.is_available() else \"cpu\")\n",
    "\n",
    "# 임의의 하이퍼파라미터 설정\n",
    "latent_dim = 64  # 인코더에서 나오는 잠재 공간 차원\n",
    "batch_size = 32\n",
    "num_epochs = 10  # 학습 에폭 수\n",
    "env_name = \"box-close-v2\"\n",
    "exp_name = \"augmentor-test\"\n",
    "pair_algo = \"ternary-500\"\n",
    "TRAJECTORY_LENGTH=25"
   ]
  },
  {
   "cell_type": "code",
   "execution_count": 10,
   "metadata": {},
   "outputs": [],
   "source": [
    "def fill_feedback_from_raw_dataset(average_reward, cumulative_rewards, pairs):\n",
    "    \"\"\"\n",
    "    Fill feedback in dataset using cumulative rewards and calculate mu values.\n",
    "    \"\"\"\n",
    "\n",
    "    feedbacks = []\n",
    "\n",
    "    for s0, s1 in pairs:\n",
    "        sum_of_rewards_0 = cumulative_rewards[s0[1] - 1] - (\n",
    "            cumulative_rewards[s0[0] - 1] if s0[0] > 0 else 0\n",
    "        )\n",
    "        sum_of_rewards_1 = cumulative_rewards[s1[1] - 1] - (\n",
    "            cumulative_rewards[s1[0] - 1] if s1[0] > 0 else 0\n",
    "        )\n",
    "\n",
    "        if (\n",
    "            np.abs(sum_of_rewards_0 - sum_of_rewards_1)\n",
    "            < average_reward * TRAJECTORY_LENGTH * 0.1\n",
    "        ):\n",
    "            mu = 0.5\n",
    "        else:\n",
    "            mu = 0 if sum_of_rewards_0 > sum_of_rewards_1 else 1\n",
    "\n",
    "        feedbacks.append((s0, s1, mu))\n",
    "\n",
    "    return feedbacks\n"
   ]
  },
  {
   "cell_type": "code",
   "execution_count": null,
   "metadata": {},
   "outputs": [
    {
     "name": "stdout",
     "output_type": "stream",
     "text": [
      "trajectory counts 4800\n",
      "Saved feedbacks at pair/box-close-v2/augmentor-test/train/ternary-500.npz\n",
      "Saved feedbacks at pair/box-close-v2/augmentor-test/test/ternary-500.npz\n"
     ]
    }
   ],
   "source": [
    "from data_generation.utils import generate_pairs_from_indices, save_feedbacks_npz\n",
    "from data_loading.extract_indices import extract_trajectory_indices\n",
    "from data_loading.load_data import load_dataset\n",
    "\n",
    "\n",
    "dataset = load_dataset(env_name=env_name)\n",
    "indices = extract_trajectory_indices(dataset)\n",
    "cum_sum = np.cumsum(dataset[\"rewards\"])\n",
    "average_reward = np.mean(dataset[\"rewards\"])\n",
    "\n",
    "\n",
    "# ✅ 학습 데이터 생성 (500개)\n",
    "train_pairs = generate_pairs_from_indices(\n",
    "    trajectories=indices,\n",
    "    pair_count=500,\n",
    "    trajectory_length=25,\n",
    ")\n",
    "\n",
    "# ✅ 테스트 데이터 생성 (10,000개)\n",
    "test_pairs = generate_pairs_from_indices(\n",
    "    trajectories=indices,\n",
    "    pair_count=100000,\n",
    "    trajectory_length=25,\n",
    ")\n",
    "\n",
    "train_feedbacks = fill_feedback_from_raw_dataset(\n",
    "    average_reward=average_reward,\n",
    "    cumulative_rewards=cum_sum,\n",
    "    pairs=train_pairs,\n",
    ")\n",
    "\n",
    "test_feedbacks = fill_feedback_from_raw_dataset(\n",
    "    average_reward=average_reward,\n",
    "    cumulative_rewards=cum_sum,\n",
    "    pairs=test_pairs,\n",
    ")\n",
    "\n",
    "# 학습 데이터\n",
    "save_feedbacks_npz(\n",
    "    env_name=env_name,\n",
    "    exp_name=exp_name,\n",
    "    pair_type=\"train\",\n",
    "    pair_name=pair_algo,\n",
    "    feedbacks=train_feedbacks,\n",
    ")\n",
    "\n",
    "save_feedbacks_npz(\n",
    "    env_name=env_name,\n",
    "    exp_name=exp_name,\n",
    "    pair_type=\"test\",\n",
    "    pair_name=pair_algo,\n",
    "    feedbacks=test_feedbacks,\n",
    ")\n",
    "\n",
    "\n"
   ]
  },
  {
   "cell_type": "code",
   "execution_count": 12,
   "metadata": {},
   "outputs": [
    {
     "name": "stdout",
     "output_type": "stream",
     "text": [
      "Loaded pair/box-close-v2/augmentor-test/train/ternary-500.npz dataset\n"
     ]
    },
    {
     "name": "stderr",
     "output_type": "stream",
     "text": [
      "/Users/lockcept/osilab/SPA/src/data_generation/classifier/trajectory_pair_classifier.py:59: FutureWarning: You are using `torch.load` with `weights_only=False` (the current default value), which uses the default pickle module implicitly. It is possible to construct malicious pickle data which will execute arbitrary code during unpickling (See https://github.com/pytorch/pytorch/blob/main/SECURITY.md#untrusted-models for more details). In a future release, the default value for `weights_only` will be flipped to `True`. This limits the functions that could be executed during unpickling. Arbitrary objects will no longer be allowed to be loaded via this mode unless they are explicitly allowlisted by the user via `torch.serialization.add_safe_globals`. We recommend you start setting `weights_only=True` for any use case where you don't have full control of the loaded file. Please open an issue on GitHub for any issues related to this experimental feature.\n",
      "  model.load_state_dict(torch.load(model_path, map_location=device))\n"
     ]
    },
    {
     "name": "stdout",
     "output_type": "stream",
     "text": [
      "Processed data with 500 samples\n",
      "✅ Loaded existing model from model/box-close-v2/augmentor-test/classifier/ternary-500/trajectory-pair-classifier.pth\n"
     ]
    },
    {
     "name": "stderr",
     "output_type": "stream",
     "text": [
      "Epoch 1/10: 100%|██████████| 16/16 [00:00<00:00, 601.24it/s]\n",
      "Epoch 2/10: 100%|██████████| 16/16 [00:00<00:00, 774.26it/s]\n",
      "Epoch 3/10: 100%|██████████| 16/16 [00:00<00:00, 829.65it/s]\n",
      "Epoch 4/10: 100%|██████████| 16/16 [00:00<00:00, 777.98it/s]\n",
      "Epoch 5/10: 100%|██████████| 16/16 [00:00<00:00, 768.71it/s]\n",
      "Epoch 6/10: 100%|██████████| 16/16 [00:00<00:00, 948.04it/s]\n",
      "Epoch 7/10: 100%|██████████| 16/16 [00:00<00:00, 845.70it/s]\n",
      "Epoch 8/10: 100%|██████████| 16/16 [00:00<00:00, 753.08it/s]\n",
      "Epoch 9/10: 100%|██████████| 16/16 [00:00<00:00, 838.39it/s]\n",
      "Epoch 10/10: 100%|██████████| 16/16 [00:00<00:00, 869.38it/s]"
     ]
    },
    {
     "name": "stdout",
     "output_type": "stream",
     "text": [
      "✅ Model saved at model/box-close-v2/augmentor-test/classifier/ternary-500/trajectory-pair-classifier.pth\n"
     ]
    },
    {
     "name": "stderr",
     "output_type": "stream",
     "text": [
      "\n"
     ]
    }
   ],
   "source": [
    "from data_generation.classifier.trajectory_pair_classifier import train_trajectory_pair_classifier\n",
    "\n",
    "\n",
    "train_trajectory_pair_classifier(\n",
    "    env_name=env_name,\n",
    "    exp_name=exp_name,\n",
    "    pair_algo=pair_algo,\n",
    "    batch_size=batch_size,\n",
    "    num_epochs=num_epochs,\n",
    "    device=device,\n",
    ")"
   ]
  },
  {
   "cell_type": "code",
   "execution_count": 13,
   "metadata": {},
   "outputs": [
    {
     "name": "stderr",
     "output_type": "stream",
     "text": [
      "/var/folders/j2/qf7z8yf14kx2r606tsl_zhtm0000gn/T/ipykernel_5768/3021589881.py:11: FutureWarning: You are using `torch.load` with `weights_only=False` (the current default value), which uses the default pickle module implicitly. It is possible to construct malicious pickle data which will execute arbitrary code during unpickling (See https://github.com/pytorch/pytorch/blob/main/SECURITY.md#untrusted-models for more details). In a future release, the default value for `weights_only` will be flipped to `True`. This limits the functions that could be executed during unpickling. Arbitrary objects will no longer be allowed to be loaded via this mode unless they are explicitly allowlisted by the user via `torch.serialization.add_safe_globals`. We recommend you start setting `weights_only=True` for any use case where you don't have full control of the loaded file. Please open an issue on GitHub for any issues related to this experimental feature.\n",
      "  classifier.load_state_dict(torch.load(model_path))\n"
     ]
    },
    {
     "name": "stdout",
     "output_type": "stream",
     "text": [
      "Loaded pair/box-close-v2/augmentor-test/test/ternary-500.npz dataset\n",
      "Processed data with 100000 samples\n"
     ]
    }
   ],
   "source": [
    "from data_generation.classifier.trajectory_pair_classifier import TrajectoryPairClassifier\n",
    "from data_loading.preference_dataloader import get_dataloader\n",
    "from utils.path import get_trajectory_pair_classifier_path\n",
    "\n",
    "model_path = get_trajectory_pair_classifier_path(\n",
    "    env_name=env_name,\n",
    "    exp_name=exp_name,\n",
    "    pair_algo=pair_algo,\n",
    ")\n",
    "\n",
    "classifier = TrajectoryPairClassifier(input_dim=43*25).to(device)\n",
    "classifier.load_state_dict(torch.load(model_path))\n",
    "classifier.eval()\n",
    "\n",
    "test_loader = get_dataloader(\n",
    "        env_name=env_name,\n",
    "        exp_name=exp_name,\n",
    "        pair_type=\"test\",\n",
    "        pair_algo=pair_algo,\n",
    "        batch_size=batch_size,\n",
    "        shuffle=True,\n",
    "        drop_last=False,\n",
    "    )\n",
    "\n"
   ]
  },
  {
   "cell_type": "code",
   "execution_count": 15,
   "metadata": {},
   "outputs": [
    {
     "name": "stderr",
     "output_type": "stream",
     "text": [
      "Evaluating Model: 100%|██████████| 3125/3125 [00:02<00:00, 1487.55it/s]\n"
     ]
    },
    {
     "data": {
      "image/png": "[encoded data removed]",
      "text/plain": [
       "<Figure size 600x500 with 2 Axes>"
      ]
     },
     "metadata": {},
     "output_type": "display_data"
    },
    {
     "name": "stdout",
     "output_type": "stream",
     "text": [
      "✅ Accuracy (Filtered Top 1000 by Certainty): 92.74%\n"
     ]
    }
   ],
   "source": [
    "import numpy as np\n",
    "import torch\n",
    "import matplotlib.pyplot as plt\n",
    "import seaborn as sns\n",
    "from sklearn.metrics import confusion_matrix\n",
    "from tqdm import tqdm\n",
    "\n",
    "# ✅ 원본 mu 및 예측 mu 저장\n",
    "original_mu_list = []\n",
    "predicted_mu_list = []\n",
    "\n",
    "# ✅ Flip된 mu 및 예측 mu 저장\n",
    "flipped_predicted_mu_list = []\n",
    "\n",
    "with torch.no_grad():\n",
    "    for batch in tqdm(test_loader, desc=\"Evaluating Model\"):\n",
    "        (\n",
    "            s0_obs_batch,\n",
    "            s0_act_batch,\n",
    "            s1_obs_batch,\n",
    "            s1_act_batch,\n",
    "            mu_batch,\n",
    "            _,\n",
    "            _,\n",
    "        ) = [x.to(device) for x in batch]\n",
    "\n",
    "        batch_dim = s0_obs_batch.shape[0]\n",
    "\n",
    "        # ✅ 원래 순서\n",
    "        s0_batch = torch.cat((s0_obs_batch, s0_act_batch), dim=-1).reshape(batch_dim, -1)\n",
    "        s1_batch = torch.cat((s1_obs_batch, s1_act_batch), dim=-1).reshape(batch_dim, -1)\n",
    "        batch = torch.cat((s0_batch, s1_batch), dim=-1)\n",
    "\n",
    "        output = classifier(batch)\n",
    "        predicted_mu = torch.sigmoid(output[:, 1])  # Class 1의 확률값\n",
    "\n",
    "        # ✅ Flip된 순서 (s1, s0로 바꿈)\n",
    "        flipped_batch = torch.cat((s1_batch, s0_batch), dim=-1)\n",
    "        flipped_output = classifier(flipped_batch)\n",
    "        flipped_predicted_mu = torch.sigmoid(flipped_output[:, 1])\n",
    "\n",
    "        # ✅ 데이터 저장\n",
    "        original_mu_list.append(mu_batch.cpu().numpy())\n",
    "        predicted_mu_list.append(predicted_mu.cpu().numpy())\n",
    "        flipped_predicted_mu_list.append(flipped_predicted_mu.cpu().numpy())\n",
    "\n",
    "# ✅ 리스트를 Numpy 배열로 변환\n",
    "original_mu_array = np.concatenate(original_mu_list, axis=0)\n",
    "predicted_mu_array = np.concatenate(predicted_mu_list, axis=0)\n",
    "flipped_predicted_mu_array = np.concatenate(flipped_predicted_mu_list, axis=0)\n",
    "\n",
    "# ✅ Uncertainty 계산 (mu + flipped_mu가 1에 가까울수록 확신 높음)\n",
    "certainty_scores = np.abs((predicted_mu_array + flipped_predicted_mu_array) - 1)\n",
    "\n",
    "# ✅ 상위 1,0000개 샘플 선택 (uncertainty가 낮은 순서대로 정렬)\n",
    "top_1000_indices = np.argsort(certainty_scores)[:10000]\n",
    "\n",
    "# ✅ 필터링된 데이터셋 생성\n",
    "filtered_original = original_mu_array[top_1000_indices]\n",
    "filtered_predicted = predicted_mu_array[top_1000_indices]\n",
    "\n",
    "# ✅ mu 값을 3단계로 범주화 (중립값은 Class 2)\n",
    "def categorize_mu(mu_array):\n",
    "    mu_classes = np.full_like(mu_array, 1, dtype=int)  # 기본값 1 (중립)\n",
    "    mu_classes[mu_array < 1/3] = 0  # Class 0\n",
    "    mu_classes[mu_array > 2/3] = 2  # Class 1\n",
    "    return mu_classes\n",
    "\n",
    "filtered_original_classes = categorize_mu(filtered_original)\n",
    "filtered_predicted_classes = categorize_mu(filtered_predicted)\n",
    "\n",
    "# ✅ 3×3 Confusion Matrix 계산\n",
    "cm = confusion_matrix(filtered_original_classes, filtered_predicted_classes, labels=[0, 1, 2])\n",
    "\n",
    "# ✅ Confusion Matrix 시각화\n",
    "plt.figure(figsize=(6, 5))\n",
    "sns.heatmap(cm, annot=True, fmt=\"d\", cmap=\"Blues\", xticklabels=[\"0\", \"1\", \"2\"], yticklabels=[\"0\", \"1\", \"2\"])\n",
    "plt.xlabel(\"Predicted Label\")\n",
    "plt.ylabel(\"True Label\")\n",
    "plt.title(\"Confusion Matrix (Filtered Top 1000 by Certainty)\")\n",
    "plt.show()\n",
    "\n",
    "# ✅ 일치하는 비율 (Accuracy) 계산\n",
    "correct_predictions = np.trace(cm)  # 대각선 합 (TP + TP + TP)\n",
    "total_predictions = np.sum(cm)  # 전체 샘플 수\n",
    "accuracy = (correct_predictions / total_predictions) * 100 if total_predictions > 0 else 0\n",
    "\n",
    "# ✅ 결과 출력\n",
    "print(f\"✅ Accuracy (Filtered Top 1000 by Certainty): {accuracy:.2f}%\")"
   ]
  },
  {
   "cell_type": "code",
   "execution_count": null,
   "metadata": {},
   "outputs": [],
   "source": []
  }
 ],
 "metadata": {
  "kernelspec": {
   "display_name": "cutter",
   "language": "python",
   "name": "python3"
  },
  "language_info": {
   "codemirror_mode": {
    "name": "ipython",
    "version": 3
   },
   "file_extension": ".py",
   "mimetype": "text/x-python",
   "name": "python",
   "nbconvert_exporter": "python",
   "pygments_lexer": "ipython3",
   "version": "3.10.15"
  }
 },
 "nbformat": 4,
 "nbformat_minor": 2
}
